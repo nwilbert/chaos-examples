{
 "metadata": {
  "name": "",
  "signature": "sha256:0ffece369b51607d02a14d3c46c99e966cc2ff29564a131567668631cf9947ca"
 },
 "nbformat": 3,
 "nbformat_minor": 0,
 "worksheets": [
  {
   "cells": [
    {
     "cell_type": "markdown",
     "metadata": {},
     "source": [
      "**Disclaimer:** This code is far from beeing efficient or optimal. It's intention is be simple, while using numpy and matplotlib for convenience."
     ]
    },
    {
     "cell_type": "code",
     "collapsed": false,
     "input": [
      "%matplotlib inline\n",
      "\n",
      "import numpy as np\n",
      "import matplotlib as mpl\n",
      "import matplotlib.pyplot as plt\n",
      "\n",
      "from IPython.display import set_matplotlib_formats\n",
      "set_matplotlib_formats('png')\n",
      "mpl.rcParams['savefig.dpi'] = 140"
     ],
     "language": "python",
     "metadata": {},
     "outputs": []
    },
    {
     "cell_type": "heading",
     "level": 1,
     "metadata": {},
     "source": [
      "Feigenbaum diagramm"
     ]
    },
    {
     "cell_type": "markdown",
     "metadata": {},
     "source": [
      "logistic map: $$x_{n+1} = rx_n(1-x_n)$$"
     ]
    },
    {
     "cell_type": "code",
     "collapsed": false,
     "input": [
      "def plot_feigenbaum(r_intervall = [2.4, 4.0],\n",
      "                    n_steps = 800,\n",
      "                    n_pre_iterations = 200,\n",
      "                    n_show_iterations = 200):\n",
      "\n",
      "    r = np.linspace(*r_intervall, num=n_steps)\n",
      "    x = np.random.random(n_steps)\n",
      "    x_results = np.zeros([n_steps, n_show_iterations])\n",
      "\n",
      "    for i in range(n_pre_iterations + n_show_iterations):\n",
      "\n",
      "        x = r * x * (1 - x)\n",
      "\n",
      "        if i >= n_pre_iterations:\n",
      "            x_results[:, i - n_pre_iterations] = x\n",
      "\n",
      "    plt.plot(r[np.newaxis,:].repeat(n_show_iterations, axis=1).flatten(),\n",
      "             x_results.flatten(),\n",
      "             marker='.', linestyle='None', color='black', markersize=0.2)\n",
      "    plt.title('$x$ values over {} iterations (after first {})'.\n",
      "              format(n_show_iterations, n_pre_iterations))\n",
      "    plt.xlabel('$r$')\n",
      "    plt.ylabel('$x$')\n",
      "    \n",
      "plot_feigenbaum()"
     ],
     "language": "python",
     "metadata": {},
     "outputs": []
    },
    {
     "cell_type": "code",
     "collapsed": false,
     "input": [
      "plot_feigenbaum(r_intervall = [3.6, 3.8], n_steps=1000, n_pre_iterations = 1000)"
     ],
     "language": "python",
     "metadata": {},
     "outputs": []
    },
    {
     "cell_type": "code",
     "collapsed": false,
     "input": [
      "plot_feigenbaum(r_intervall = [3.74, 3.745], n_steps=1000, n_pre_iterations = 1000, n_show_iterations=500)\n",
      "plt.ylim((0.46, 0.53))"
     ],
     "language": "python",
     "metadata": {},
     "outputs": []
    },
    {
     "cell_type": "heading",
     "level": 1,
     "metadata": {},
     "source": [
      "Iterated Function System (ITS)"
     ]
    },
    {
     "cell_type": "code",
     "collapsed": false,
     "input": [
      "def plot_barnsley(n_points=10**5):\n",
      "    \n",
      "    # matrices for the linear part of the transformations\n",
      "    A = np.array([\n",
      "    [[.0, .0],\n",
      "     [.0, .16]],\n",
      "\n",
      "    [[.85, .04],\n",
      "     [-.04, .85]],\n",
      "\n",
      "    [[.2, -.26],\n",
      "     [.23, .22]],\n",
      "\n",
      "    [[-.15, .28],\n",
      "     [.26, .24]]\n",
      "    ])\n",
      "\n",
      "    # translation vectors of the transformations\n",
      "    b = np.array([\n",
      "    [.0, .0],\n",
      "    [.0, 1.6],\n",
      "    [.0, 1.6],\n",
      "    [.0, .44]\n",
      "    ])\n",
      "\n",
      "    # probabilities with which each transformation is chosen\n",
      "    p = [.01, .85, .07, .07]\n",
      "    p_aggr = [p[0], p[0]+p[1], p[0]+p[1]+p[2]]\n",
      "\n",
      "    points = np.zeros((n_points, 2))  # stores the result of each iteration\n",
      "    x = np.array([.0, .0])\n",
      "    \n",
      "    for i in range(n_points):\n",
      "        \n",
      "        # pick a transformation\n",
      "        s = np.random.random()\n",
      "        if s < p_aggr[0]:\n",
      "            i_trafo = 0\n",
      "        elif s < p_aggr[1]:\n",
      "            i_trafo = 1\n",
      "        elif s < p_aggr[2]:\n",
      "            i_trafo = 2\n",
      "        else:\n",
      "            i_trafo = 3\n",
      "\n",
      "        x = np.dot(A[i_trafo], x) + b[i_trafo]\n",
      "\n",
      "        points[i] = x\n",
      "\n",
      "    plt.figure(figsize=(6,6))\n",
      "    plt.plot(points[:,0], points[:,1],\n",
      "             marker='.', linestyle='None', color='green', markersize=0.5)\n",
      "    plt.title('Barnsley fern')\n",
      "    plt.xlabel('$x_1$')\n",
      "    plt.ylabel('$x_2$')\n",
      "    \n",
      "plot_barnsley()"
     ],
     "language": "python",
     "metadata": {},
     "outputs": []
    },
    {
     "cell_type": "heading",
     "level": 1,
     "metadata": {},
     "source": [
      "Mandelbrot and Julia Set"
     ]
    },
    {
     "cell_type": "markdown",
     "metadata": {},
     "source": [
      "$$z_{n+1} = {z_n}^2 + c$$"
     ]
    },
    {
     "cell_type": "code",
     "collapsed": false,
     "input": [
      "def plot_julia(c = -0.7 + 0.3j,\n",
      "               z_min = -2 - 2j,\n",
      "               z_max = 2 + 2j,\n",
      "               max_iter = 160,\n",
      "               breakout = 100.0,\n",
      "               resolution = [800, 600]):\n",
      "\n",
      "    iteration = np.zeros(resolution, dtype='int')\n",
      "    z = (np.linspace(z_min.real, z_max.real, resolution[0])[:, np.newaxis] +\n",
      "         1j * np.linspace(z_min.imag, z_max.imag, resolution[1])[np.newaxis, :])\n",
      "\n",
      "    for i in range(max_iter):\n",
      "        z = z**2 + c\n",
      "        iteration[(np.abs(z) > breakout) & ~iteration.astype('bool')] = i\n",
      "\n",
      "    plt.figure()\n",
      "    plt.imshow(iteration.T,\n",
      "               extent=[z_min.real, z_max.real, z_min.imag, z_max.imag],\n",
      "               interpolation='nearest', origin='lower')\n",
      "\n",
      "    plt.xlabel('$\\Re(z)$')\n",
      "    plt.ylabel('$\\Im(z)$')\n",
      "    plt.title('Julia set for $c={}$'.format(c))\n",
      "    plt.colorbar(label='breakout iteration')\n",
      "    \n",
      "plot_julia()"
     ],
     "language": "python",
     "metadata": {},
     "outputs": []
    },
    {
     "cell_type": "code",
     "collapsed": false,
     "input": [
      "plot_julia(z_min = -1.0 - 0.5j, z_max= 0.0 + 0.5j, max_iter = 260)"
     ],
     "language": "python",
     "metadata": {},
     "outputs": []
    },
    {
     "cell_type": "code",
     "collapsed": false,
     "input": [
      "plot_julia(c = 0.41 + 0.2j, max_iter = 80)"
     ],
     "language": "python",
     "metadata": {},
     "outputs": []
    },
    {
     "cell_type": "code",
     "collapsed": false,
     "input": [
      "def plot_mandelbrot(c_min = -2.4 - 1.5j,\n",
      "                    c_max = 1.2 + 1.5j,\n",
      "                    max_iter = 30,\n",
      "                    breakout = 100.0,\n",
      "                    resolution = [800, 600]):\n",
      "\n",
      "    iteration = np.zeros(resolution, dtype='int')\n",
      "    z = 0.0\n",
      "    c = (np.linspace(c_min.real, c_max.real, resolution[0])[:, np.newaxis] +\n",
      "         1j * np.linspace(c_min.imag, c_max.imag, resolution[1])[np.newaxis, :])\n",
      "\n",
      "    for i in range(max_iter):\n",
      "        z = z**2 + c    \n",
      "        iteration[(np.abs(z) > breakout) & ~iteration.astype('bool')] = i\n",
      "\n",
      "    plt.figure()\n",
      "    plt.imshow(iteration.T,\n",
      "               extent=[c_min.real, c_max.real, c_min.imag, c_max.imag],\n",
      "               interpolation='nearest', origin='lower')\n",
      "\n",
      "    plt.xlabel('$\\Re(c)$')\n",
      "    plt.ylabel('$\\Im(c)$')\n",
      "    plt.title('Mandelbrot set')\n",
      "    plt.colorbar(label='breakout iteration')\n",
      "    \n",
      "plot_mandelbrot()"
     ],
     "language": "python",
     "metadata": {},
     "outputs": []
    },
    {
     "cell_type": "code",
     "collapsed": false,
     "input": [
      "plot_mandelbrot(c_min=-0.4+0.6j, c_max=0.2+1.1j, max_iter=80)"
     ],
     "language": "python",
     "metadata": {},
     "outputs": []
    },
    {
     "cell_type": "heading",
     "level": 1,
     "metadata": {},
     "source": [
      "Newtown Basin"
     ]
    },
    {
     "cell_type": "markdown",
     "metadata": {},
     "source": [
      "$$z_{n+1} = {z_n} - a \\frac{f(z_n)}{f'(z_n)}$$"
     ]
    },
    {
     "cell_type": "code",
     "collapsed": false,
     "input": [
      "def plot_newton(z_min = -1.2 - 1j,\n",
      "                z_max = 1.2 + 1j,\n",
      "                p = [3, 0, 0, -1],  # cofficients of the polynomial for numpy.polyval, e.g. p[0] * z*1 + p[1] * z*0\n",
      "                eps = 0.001,\n",
      "                a = 1,\n",
      "                max_iter = 30,\n",
      "                resolution = [800, 600]):\n",
      "    \n",
      "    f = np.poly1d(p)\n",
      "    df = f.deriv()\n",
      "    roots = f.r\n",
      "    \n",
      "    print('roots:')\n",
      "    for root in roots:\n",
      "        print(root)\n",
      "    \n",
      "    iteration = np.zeros(resolution, dtype='int')  # iteration in which the distance to a root is less than eps\n",
      "    converged = np.zeros(resolution, dtype='int')  # index of the root to which each point converges\n",
      "    z = (np.linspace(z_min.real, z_max.real, resolution[0])[:, np.newaxis] +\n",
      "         1j * np.linspace(z_min.imag, z_max.imag, resolution[1])[np.newaxis, :])\n",
      "\n",
      "    for i in range(max_iter):\n",
      "        z = z - a * f(z) / df(z)\n",
      "        for i_root, root in enumerate(roots):\n",
      "            mask = np.abs(z - root) < eps\n",
      "            iteration[mask & ~converged.astype('bool')] = i\n",
      "            converged[mask] = i_root + 1\n",
      "            \n",
      "    plt.figure()\n",
      "    plt.imshow(iteration.T,\n",
      "               extent=[z_min.real, z_max.real, z_min.imag, z_max.imag],\n",
      "               interpolation='nearest', cmap=plt.cm.gray, origin='lower')\n",
      "    plt.colorbar(label='convergence iteration')\n",
      "    plt.imshow(converged.T,\n",
      "               extent=[z_min.real, z_max.real, z_min.imag, z_max.imag],\n",
      "               interpolation='nearest', cmap=plt.cm.hsv, alpha=0.4, origin='lower')\n",
      "    plt.xlabel('$\\Re(z)$')\n",
      "    plt.ylabel('$\\Im(z)$')\n",
      "    plt.title('Newton basin for ${}$'.format(p))\n",
      "    \n",
      "    \n",
      "plot_newton(resolution=[1600, 1200])"
     ],
     "language": "python",
     "metadata": {},
     "outputs": []
    },
    {
     "cell_type": "code",
     "collapsed": false,
     "input": [
      "plot_newton(p=[1, 0, 0, 1, 0, 0, -1])"
     ],
     "language": "python",
     "metadata": {},
     "outputs": []
    },
    {
     "cell_type": "code",
     "collapsed": false,
     "input": [
      "plot_newton(p=[3, 0, 0, 2, 0, 0, 1])"
     ],
     "language": "python",
     "metadata": {},
     "outputs": []
    },
    {
     "cell_type": "code",
     "collapsed": false,
     "input": [],
     "language": "python",
     "metadata": {},
     "outputs": []
    }
   ],
   "metadata": {}
  }
 ]
}